{
 "cells": [
  {
   "cell_type": "code",
   "execution_count": null,
   "id": "initial_id",
   "metadata": {
    "collapsed": true
   },
   "outputs": [],
   "source": [
    "import pygame.key\n",
    "\n",
    "keys = pygame.key.get_pressed()"
   ]
  },
  {
   "metadata": {},
   "cell_type": "markdown",
   "source": "Code used to get keys. to check for keys use",
   "id": "4dca564311392731"
  },
  {
   "metadata": {},
   "cell_type": "code",
   "outputs": [],
   "execution_count": null,
   "source": [
    "import pygame\n",
    "\n",
    "keys = pygame.key.get_pressed()\n",
    "\n",
    "keys == pygame.K_"
   ],
   "id": "803e1327f1aa587c"
  }
 ],
 "metadata": {
  "kernelspec": {
   "display_name": "Python 3",
   "language": "python",
   "name": "python3"
  },
  "language_info": {
   "codemirror_mode": {
    "name": "ipython",
    "version": 2
   },
   "file_extension": ".py",
   "mimetype": "text/x-python",
   "name": "python",
   "nbconvert_exporter": "python",
   "pygments_lexer": "ipython2",
   "version": "2.7.6"
  }
 },
 "nbformat": 4,
 "nbformat_minor": 5
}
